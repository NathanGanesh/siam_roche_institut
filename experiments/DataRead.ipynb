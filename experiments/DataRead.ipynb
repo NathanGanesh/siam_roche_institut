{
 "cells": [
  {
   "cell_type": "code",
   "execution_count": 20,
   "id": "4088c51e-8546-4c03-8e48-934b83100ea8",
   "metadata": {},
   "outputs": [],
   "source": [
    "import pandas as pd\n",
    "import numpy as np\n",
    "import matplotlib.pyplot as plt"
   ]
  },
  {
   "cell_type": "code",
   "execution_count": 18,
   "id": "808f7c9d-4f0f-4c98-a63c-ef9526d8f0b1",
   "metadata": {},
   "outputs": [],
   "source": [
    "df_raw=pd.read_csv(\"../data/MIXED1000patients_subsamples/1/brca_mRNA_1000patients.csv\")\n",
    "df_prcsd=pd.read_csv(\"../data/MIXED1000patients_subsamples/1/CTGAN/brca_mRNA_patients_embedding_dim128_gen_dim256_dis_dim256_l2scale1e-06_batch_size500_epochs500.csv\")"
   ]
  },
  {
   "cell_type": "code",
   "execution_count": 39,
   "id": "87023753-caa9-4fd4-b088-81a9f322d1a5",
   "metadata": {},
   "outputs": [],
   "source": [
    "raw=df_raw[[\"TMB_NONSYNONYMOUS\",\"RFS_MONTHS\",\"NPI\",\"AGE_AT_DIAGNOSIS\",\"OS_MONTHS\"]];\n",
    "prcsd=df_prcsd[[\"TMB_NONSYNONYMOUS\",\"RFS_MONTHS\",\"NPI\",\"AGE_AT_DIAGNOSIS\",\"OS_MONTHS\"]];"
   ]
  },
  {
   "cell_type": "code",
   "execution_count": 48,
   "id": "b337c671-7ce8-473d-a695-bc0e4ae271e2",
   "metadata": {},
   "outputs": [
    {
     "data": {
      "text/html": [
       "<div>\n",
       "<style scoped>\n",
       "    .dataframe tbody tr th:only-of-type {\n",
       "        vertical-align: middle;\n",
       "    }\n",
       "\n",
       "    .dataframe tbody tr th {\n",
       "        vertical-align: top;\n",
       "    }\n",
       "\n",
       "    .dataframe thead th {\n",
       "        text-align: right;\n",
       "    }\n",
       "</style>\n",
       "<table border=\"1\" class=\"dataframe\">\n",
       "  <thead>\n",
       "    <tr style=\"text-align: right;\">\n",
       "      <th></th>\n",
       "      <th>TMB_NONSYNONYMOUS</th>\n",
       "      <th>RFS_MONTHS</th>\n",
       "      <th>NPI</th>\n",
       "      <th>AGE_AT_DIAGNOSIS</th>\n",
       "      <th>OS_MONTHS</th>\n",
       "    </tr>\n",
       "  </thead>\n",
       "  <tbody>\n",
       "    <tr>\n",
       "      <th>0</th>\n",
       "      <td>13.075177</td>\n",
       "      <td>120.79</td>\n",
       "      <td>2.040</td>\n",
       "      <td>55.67</td>\n",
       "      <td>122.400000</td>\n",
       "    </tr>\n",
       "    <tr>\n",
       "      <th>1</th>\n",
       "      <td>1.307518</td>\n",
       "      <td>17.24</td>\n",
       "      <td>4.090</td>\n",
       "      <td>28.04</td>\n",
       "      <td>33.900000</td>\n",
       "    </tr>\n",
       "    <tr>\n",
       "      <th>2</th>\n",
       "      <td>18.305248</td>\n",
       "      <td>113.09</td>\n",
       "      <td>4.043</td>\n",
       "      <td>67.60</td>\n",
       "      <td>114.600000</td>\n",
       "    </tr>\n",
       "    <tr>\n",
       "      <th>3</th>\n",
       "      <td>11.767659</td>\n",
       "      <td>181.91</td>\n",
       "      <td>3.030</td>\n",
       "      <td>55.04</td>\n",
       "      <td>184.333333</td>\n",
       "    </tr>\n",
       "    <tr>\n",
       "      <th>4</th>\n",
       "      <td>18.305248</td>\n",
       "      <td>19.54</td>\n",
       "      <td>5.070</td>\n",
       "      <td>51.36</td>\n",
       "      <td>32.833333</td>\n",
       "    </tr>\n",
       "    <tr>\n",
       "      <th>...</th>\n",
       "      <td>...</td>\n",
       "      <td>...</td>\n",
       "      <td>...</td>\n",
       "      <td>...</td>\n",
       "      <td>...</td>\n",
       "    </tr>\n",
       "    <tr>\n",
       "      <th>995</th>\n",
       "      <td>6.537589</td>\n",
       "      <td>137.07</td>\n",
       "      <td>3.040</td>\n",
       "      <td>58.95</td>\n",
       "      <td>138.900000</td>\n",
       "    </tr>\n",
       "    <tr>\n",
       "      <th>996</th>\n",
       "      <td>28.765389</td>\n",
       "      <td>88.72</td>\n",
       "      <td>5.134</td>\n",
       "      <td>73.24</td>\n",
       "      <td>89.900000</td>\n",
       "    </tr>\n",
       "    <tr>\n",
       "      <th>997</th>\n",
       "      <td>2.615035</td>\n",
       "      <td>20.39</td>\n",
       "      <td>4.040</td>\n",
       "      <td>48.58</td>\n",
       "      <td>26.266667</td>\n",
       "    </tr>\n",
       "    <tr>\n",
       "      <th>998</th>\n",
       "      <td>0.000000</td>\n",
       "      <td>85.86</td>\n",
       "      <td>5.052</td>\n",
       "      <td>65.45</td>\n",
       "      <td>87.000000</td>\n",
       "    </tr>\n",
       "    <tr>\n",
       "      <th>999</th>\n",
       "      <td>0.000000</td>\n",
       "      <td>123.42</td>\n",
       "      <td>3.030</td>\n",
       "      <td>64.94</td>\n",
       "      <td>125.066667</td>\n",
       "    </tr>\n",
       "  </tbody>\n",
       "</table>\n",
       "<p>1000 rows × 5 columns</p>\n",
       "</div>"
      ],
      "text/plain": [
       "     TMB_NONSYNONYMOUS  RFS_MONTHS    NPI  AGE_AT_DIAGNOSIS   OS_MONTHS\n",
       "0            13.075177      120.79  2.040             55.67  122.400000\n",
       "1             1.307518       17.24  4.090             28.04   33.900000\n",
       "2            18.305248      113.09  4.043             67.60  114.600000\n",
       "3            11.767659      181.91  3.030             55.04  184.333333\n",
       "4            18.305248       19.54  5.070             51.36   32.833333\n",
       "..                 ...         ...    ...               ...         ...\n",
       "995           6.537589      137.07  3.040             58.95  138.900000\n",
       "996          28.765389       88.72  5.134             73.24   89.900000\n",
       "997           2.615035       20.39  4.040             48.58   26.266667\n",
       "998           0.000000       85.86  5.052             65.45   87.000000\n",
       "999           0.000000      123.42  3.030             64.94  125.066667\n",
       "\n",
       "[1000 rows x 5 columns]"
      ]
     },
     "execution_count": 48,
     "metadata": {},
     "output_type": "execute_result"
    }
   ],
   "source": [
    "raw"
   ]
  },
  {
   "cell_type": "code",
   "execution_count": 84,
   "id": "5853b22d-c6d9-4311-a660-964a8cd15e44",
   "metadata": {},
   "outputs": [
    {
     "data": {
      "text/plain": [
       "(1000, 1)"
      ]
     },
     "execution_count": 84,
     "metadata": {},
     "output_type": "execute_result"
    }
   ],
   "source": [
    "corr_arr=np.zeros((1000,1))+1j\n",
    "\n",
    "for i in range(1000):\n",
    "    raw_test=np.array(raw.loc[0,:])\n",
    "    raw_test_fft=np.fft.fft(raw_test)\n",
    "\n",
    "    prcsd_fft=np.fft.fft(np.array(prcsd.loc[i,:]))\n",
    "    corr=np.dot(raw_test,np.transpose(np.conjugate(prcsd_fft)))\n",
    "    corr_arr[i]=corr\n",
    "\n",
    "np.shape(corr_arr)"
   ]
  },
  {
   "cell_type": "code",
   "execution_count": 77,
   "id": "0d56f1f2-bfa2-4394-8fde-0f6144cadc84",
   "metadata": {},
   "outputs": [
    {
     "data": {
      "text/plain": [
       "(5,)"
      ]
     },
     "execution_count": 77,
     "metadata": {},
     "output_type": "execute_result"
    }
   ],
   "source": [
    "np.shape(np.conjugate(prcsd_fft))\n"
   ]
  },
  {
   "cell_type": "code",
   "execution_count": 78,
   "id": "9a3b6bb5-456d-4bce-98f7-21234c681f69",
   "metadata": {},
   "outputs": [
    {
     "data": {
      "text/plain": [
       "(5,)"
      ]
     },
     "execution_count": 78,
     "metadata": {},
     "output_type": "execute_result"
    }
   ],
   "source": [
    "raw_test.shape"
   ]
  },
  {
   "cell_type": "code",
   "execution_count": null,
   "id": "fe9a0b43-95ea-4db1-ac6a-d5036da4a68a",
   "metadata": {},
   "outputs": [],
   "source": []
  }
 ],
 "metadata": {
  "kernelspec": {
   "display_name": "Python 3 (ipykernel)",
   "language": "python",
   "name": "python3"
  },
  "language_info": {
   "codemirror_mode": {
    "name": "ipython",
    "version": 3
   },
   "file_extension": ".py",
   "mimetype": "text/x-python",
   "name": "python",
   "nbconvert_exporter": "python",
   "pygments_lexer": "ipython3",
   "version": "3.9.7"
  }
 },
 "nbformat": 4,
 "nbformat_minor": 5
}
