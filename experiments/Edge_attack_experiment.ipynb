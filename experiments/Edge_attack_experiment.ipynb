{
 "cells": [
  {
   "cell_type": "code",
   "execution_count": 49,
   "metadata": {
    "collapsed": true
   },
   "outputs": [],
   "source": [
    "import pandas as pd\n",
    "import numpy as np\n",
    "import networkx as nx\n",
    "from networkx.drawing.nx_agraph import graphviz_layout\n",
    "import random\n",
    "import sklearn as sk\n",
    "from time import time\n",
    "import pickle"
   ]
  },
  {
   "cell_type": "code",
   "execution_count": 88,
   "outputs": [],
   "source": [
    "df_anon=pd.read_csv(\"../data/MIXED50patients_subsamples/1/Baynet/brca_mRNA_patients_BayNet_n20_deg2_eps0_seed_1.csv\")\n",
    "\n",
    "df_ext = pd.read_csv(\"../data/MIXED50patients_subsamples/1/brca_mRNA_50patients.csv\")"
   ],
   "metadata": {
    "collapsed": false
   }
  },
  {
   "cell_type": "code",
   "execution_count": 73,
   "outputs": [
    {
     "data": {
      "text/plain": "['CANCER_TYPE_DETAILED',\n 'ER_STATUS',\n 'HER2_STATUS',\n 'GRADE',\n 'PR_STATUS',\n 'TUMOR_SIZE',\n 'TUMOR_STAGE',\n 'TMB_NONSYNONYMOUS',\n 'LYMPH_NODES_EXAMINED_POSITIVE',\n 'NPI',\n 'CELLULARITY',\n 'CHEMOTHERAPY',\n 'COHORT',\n 'ER_IHC',\n 'HER2_SNP6',\n 'HORMONE_THERAPY',\n 'INFERRED_MENOPAUSAL_STATE',\n 'INTCLUST',\n 'AGE_AT_DIAGNOSIS',\n 'OS_MONTHS',\n 'CLAUDIN_SUBTYPE',\n 'THREEGENE',\n 'VITAL_STATUS',\n 'LATERALITY',\n 'RADIO_THERAPY',\n 'HISTOLOGICAL_SUBTYPE',\n 'BREAST_SURGERY',\n 'RFS_STATUS',\n 'RFS_MONTHS']"
     },
     "execution_count": 73,
     "metadata": {},
     "output_type": "execute_result"
    }
   ],
   "source": [
    "df_anon.columns.tolist()\n",
    "\n",
    "\n"
   ],
   "metadata": {
    "collapsed": false
   }
  },
  {
   "cell_type": "code",
   "execution_count": 74,
   "outputs": [],
   "source": [
    "matched_nodes = set()\n",
    "# find nodes in anonymized graph with same occupation as individuals in external dataset\n",
    "for idx, row in df_ext.iterrows():\n",
    "    tumor_size = row['TUMOR_SIZE']\n",
    "    matches = df_anon.index[(df_anon[\"TUMOR_SIZE\"] == tumor_size)].tolist()\n",
    "    matched_nodes.update(matches)"
   ],
   "metadata": {
    "collapsed": false
   }
  },
  {
   "cell_type": "code",
   "execution_count": 75,
   "outputs": [],
   "source": [
    "def calculate_linkage_quality(anon_data, ext_data):\n",
    "    # find individuals in anonymized data with same occupation as individuals in external data\n",
    "    matched_rows = set()\n",
    "    for i in range(len(ext_data)):\n",
    "        matches = []\n",
    "        for j in range(len(anon_data)):\n",
    "            if all(ext_data[i, k] == anon_data[j, k] for k in range(ext_data.shape[1])):\n",
    "                matches.append(j)\n",
    "        matched_rows.update(matches)\n",
    "\n",
    "    # calculate linkage quality\n",
    "    matched_pairs = []\n",
    "    for i in matched_rows:\n",
    "        for j in matched_rows:\n",
    "            if i != j and (i, j) not in matched_pairs and (j, i) not in matched_pairs:\n",
    "                if all(anon_data[i, k] == anon_data[j, k] for k in range(anon_data.shape[1])):\n",
    "                    matched_pairs.append((i, j))\n",
    "    print(matched_pairs)\n",
    "    linkage_quality3 = len(matched_pairs) / len(ext_data)\n",
    "\n",
    "    return linkage_quality3"
   ],
   "metadata": {
    "collapsed": false
   }
  },
  {
   "cell_type": "code",
   "execution_count": 76,
   "outputs": [
    {
     "name": "stdout",
     "output_type": "stream",
     "text": [
      "{0, 1, 3, 4, 5, 7, 10, 11, 12, 15, 16, 17, 18, 21, 28, 31, 32, 33, 37, 38, 41, 42, 44, 45, 46, 47}\n"
     ]
    },
    {
     "ename": "KeyError",
     "evalue": "(0, 0)",
     "output_type": "error",
     "traceback": [
      "\u001B[0;31m---------------------------------------------------------------------------\u001B[0m",
      "\u001B[0;31mKeyError\u001B[0m                                  Traceback (most recent call last)",
      "File \u001B[0;32m~/.conda/envs/pysiam/lib/python3.10/site-packages/pandas/core/indexes/base.py:3803\u001B[0m, in \u001B[0;36mIndex.get_loc\u001B[0;34m(self, key, method, tolerance)\u001B[0m\n\u001B[1;32m   3802\u001B[0m \u001B[38;5;28;01mtry\u001B[39;00m:\n\u001B[0;32m-> 3803\u001B[0m     \u001B[38;5;28;01mreturn\u001B[39;00m \u001B[38;5;28;43mself\u001B[39;49m\u001B[38;5;241;43m.\u001B[39;49m\u001B[43m_engine\u001B[49m\u001B[38;5;241;43m.\u001B[39;49m\u001B[43mget_loc\u001B[49m\u001B[43m(\u001B[49m\u001B[43mcasted_key\u001B[49m\u001B[43m)\u001B[49m\n\u001B[1;32m   3804\u001B[0m \u001B[38;5;28;01mexcept\u001B[39;00m \u001B[38;5;167;01mKeyError\u001B[39;00m \u001B[38;5;28;01mas\u001B[39;00m err:\n",
      "File \u001B[0;32m~/.conda/envs/pysiam/lib/python3.10/site-packages/pandas/_libs/index.pyx:138\u001B[0m, in \u001B[0;36mpandas._libs.index.IndexEngine.get_loc\u001B[0;34m()\u001B[0m\n",
      "File \u001B[0;32m~/.conda/envs/pysiam/lib/python3.10/site-packages/pandas/_libs/index.pyx:165\u001B[0m, in \u001B[0;36mpandas._libs.index.IndexEngine.get_loc\u001B[0;34m()\u001B[0m\n",
      "File \u001B[0;32mpandas/_libs/hashtable_class_helper.pxi:5745\u001B[0m, in \u001B[0;36mpandas._libs.hashtable.PyObjectHashTable.get_item\u001B[0;34m()\u001B[0m\n",
      "File \u001B[0;32mpandas/_libs/hashtable_class_helper.pxi:5753\u001B[0m, in \u001B[0;36mpandas._libs.hashtable.PyObjectHashTable.get_item\u001B[0;34m()\u001B[0m\n",
      "\u001B[0;31mKeyError\u001B[0m: (0, 0)",
      "\nThe above exception was the direct cause of the following exception:\n",
      "\u001B[0;31mKeyError\u001B[0m                                  Traceback (most recent call last)",
      "Cell \u001B[0;32mIn[76], line 3\u001B[0m\n\u001B[1;32m      1\u001B[0m \u001B[38;5;28mprint\u001B[39m(matched_nodes)\n\u001B[1;32m      2\u001B[0m \u001B[38;5;66;03m# calculate linkage quality\u001B[39;00m\n\u001B[0;32m----> 3\u001B[0m linkage_quality2 \u001B[38;5;241m=\u001B[39m \u001B[43mcalculate_linkage_quality\u001B[49m\u001B[43m(\u001B[49m\u001B[43mdf_anon\u001B[49m\u001B[43m,\u001B[49m\u001B[43m \u001B[49m\u001B[43mdf_ext\u001B[49m\u001B[43m)\u001B[49m\n\u001B[1;32m      5\u001B[0m \u001B[38;5;28mprint\u001B[39m(\u001B[38;5;124m\"\u001B[39m\u001B[38;5;124mLinkage quality: \u001B[39m\u001B[38;5;124m\"\u001B[39m, linkage_quality2)\n",
      "Cell \u001B[0;32mIn[75], line 7\u001B[0m, in \u001B[0;36mcalculate_linkage_quality\u001B[0;34m(anon_data, ext_data)\u001B[0m\n\u001B[1;32m      5\u001B[0m matches \u001B[38;5;241m=\u001B[39m []\n\u001B[1;32m      6\u001B[0m \u001B[38;5;28;01mfor\u001B[39;00m j \u001B[38;5;129;01min\u001B[39;00m \u001B[38;5;28mrange\u001B[39m(\u001B[38;5;28mlen\u001B[39m(anon_data)):\n\u001B[0;32m----> 7\u001B[0m     \u001B[38;5;28;01mif\u001B[39;00m \u001B[38;5;28;43mall\u001B[39;49m\u001B[43m(\u001B[49m\u001B[43mext_data\u001B[49m\u001B[43m[\u001B[49m\u001B[43mi\u001B[49m\u001B[43m,\u001B[49m\u001B[43m \u001B[49m\u001B[43mk\u001B[49m\u001B[43m]\u001B[49m\u001B[43m \u001B[49m\u001B[38;5;241;43m==\u001B[39;49m\u001B[43m \u001B[49m\u001B[43manon_data\u001B[49m\u001B[43m[\u001B[49m\u001B[43mj\u001B[49m\u001B[43m,\u001B[49m\u001B[43m \u001B[49m\u001B[43mk\u001B[49m\u001B[43m]\u001B[49m\u001B[43m \u001B[49m\u001B[38;5;28;43;01mfor\u001B[39;49;00m\u001B[43m \u001B[49m\u001B[43mk\u001B[49m\u001B[43m \u001B[49m\u001B[38;5;129;43;01min\u001B[39;49;00m\u001B[43m \u001B[49m\u001B[38;5;28;43mrange\u001B[39;49m\u001B[43m(\u001B[49m\u001B[43mext_data\u001B[49m\u001B[38;5;241;43m.\u001B[39;49m\u001B[43mshape\u001B[49m\u001B[43m[\u001B[49m\u001B[38;5;241;43m1\u001B[39;49m\u001B[43m]\u001B[49m\u001B[43m)\u001B[49m\u001B[43m)\u001B[49m:\n\u001B[1;32m      8\u001B[0m         matches\u001B[38;5;241m.\u001B[39mappend(j)\n\u001B[1;32m      9\u001B[0m matched_rows\u001B[38;5;241m.\u001B[39mupdate(matches)\n",
      "Cell \u001B[0;32mIn[75], line 7\u001B[0m, in \u001B[0;36m<genexpr>\u001B[0;34m(.0)\u001B[0m\n\u001B[1;32m      5\u001B[0m matches \u001B[38;5;241m=\u001B[39m []\n\u001B[1;32m      6\u001B[0m \u001B[38;5;28;01mfor\u001B[39;00m j \u001B[38;5;129;01min\u001B[39;00m \u001B[38;5;28mrange\u001B[39m(\u001B[38;5;28mlen\u001B[39m(anon_data)):\n\u001B[0;32m----> 7\u001B[0m     \u001B[38;5;28;01mif\u001B[39;00m \u001B[38;5;28mall\u001B[39m(\u001B[43mext_data\u001B[49m\u001B[43m[\u001B[49m\u001B[43mi\u001B[49m\u001B[43m,\u001B[49m\u001B[43m \u001B[49m\u001B[43mk\u001B[49m\u001B[43m]\u001B[49m \u001B[38;5;241m==\u001B[39m anon_data[j, k] \u001B[38;5;28;01mfor\u001B[39;00m k \u001B[38;5;129;01min\u001B[39;00m \u001B[38;5;28mrange\u001B[39m(ext_data\u001B[38;5;241m.\u001B[39mshape[\u001B[38;5;241m1\u001B[39m])):\n\u001B[1;32m      8\u001B[0m         matches\u001B[38;5;241m.\u001B[39mappend(j)\n\u001B[1;32m      9\u001B[0m matched_rows\u001B[38;5;241m.\u001B[39mupdate(matches)\n",
      "File \u001B[0;32m~/.conda/envs/pysiam/lib/python3.10/site-packages/pandas/core/frame.py:3805\u001B[0m, in \u001B[0;36mDataFrame.__getitem__\u001B[0;34m(self, key)\u001B[0m\n\u001B[1;32m   3803\u001B[0m \u001B[38;5;28;01mif\u001B[39;00m \u001B[38;5;28mself\u001B[39m\u001B[38;5;241m.\u001B[39mcolumns\u001B[38;5;241m.\u001B[39mnlevels \u001B[38;5;241m>\u001B[39m \u001B[38;5;241m1\u001B[39m:\n\u001B[1;32m   3804\u001B[0m     \u001B[38;5;28;01mreturn\u001B[39;00m \u001B[38;5;28mself\u001B[39m\u001B[38;5;241m.\u001B[39m_getitem_multilevel(key)\n\u001B[0;32m-> 3805\u001B[0m indexer \u001B[38;5;241m=\u001B[39m \u001B[38;5;28;43mself\u001B[39;49m\u001B[38;5;241;43m.\u001B[39;49m\u001B[43mcolumns\u001B[49m\u001B[38;5;241;43m.\u001B[39;49m\u001B[43mget_loc\u001B[49m\u001B[43m(\u001B[49m\u001B[43mkey\u001B[49m\u001B[43m)\u001B[49m\n\u001B[1;32m   3806\u001B[0m \u001B[38;5;28;01mif\u001B[39;00m is_integer(indexer):\n\u001B[1;32m   3807\u001B[0m     indexer \u001B[38;5;241m=\u001B[39m [indexer]\n",
      "File \u001B[0;32m~/.conda/envs/pysiam/lib/python3.10/site-packages/pandas/core/indexes/base.py:3805\u001B[0m, in \u001B[0;36mIndex.get_loc\u001B[0;34m(self, key, method, tolerance)\u001B[0m\n\u001B[1;32m   3803\u001B[0m     \u001B[38;5;28;01mreturn\u001B[39;00m \u001B[38;5;28mself\u001B[39m\u001B[38;5;241m.\u001B[39m_engine\u001B[38;5;241m.\u001B[39mget_loc(casted_key)\n\u001B[1;32m   3804\u001B[0m \u001B[38;5;28;01mexcept\u001B[39;00m \u001B[38;5;167;01mKeyError\u001B[39;00m \u001B[38;5;28;01mas\u001B[39;00m err:\n\u001B[0;32m-> 3805\u001B[0m     \u001B[38;5;28;01mraise\u001B[39;00m \u001B[38;5;167;01mKeyError\u001B[39;00m(key) \u001B[38;5;28;01mfrom\u001B[39;00m \u001B[38;5;21;01merr\u001B[39;00m\n\u001B[1;32m   3806\u001B[0m \u001B[38;5;28;01mexcept\u001B[39;00m \u001B[38;5;167;01mTypeError\u001B[39;00m:\n\u001B[1;32m   3807\u001B[0m     \u001B[38;5;66;03m# If we have a listlike key, _check_indexing_error will raise\u001B[39;00m\n\u001B[1;32m   3808\u001B[0m     \u001B[38;5;66;03m#  InvalidIndexError. Otherwise we fall through and re-raise\u001B[39;00m\n\u001B[1;32m   3809\u001B[0m     \u001B[38;5;66;03m#  the TypeError.\u001B[39;00m\n\u001B[1;32m   3810\u001B[0m     \u001B[38;5;28mself\u001B[39m\u001B[38;5;241m.\u001B[39m_check_indexing_error(key)\n",
      "\u001B[0;31mKeyError\u001B[0m: (0, 0)"
     ]
    }
   ],
   "source": [
    "print(matched_nodes)\n",
    "# calculate linkage quality\n",
    "linkage_quality2 = calculate_linkage_quality(df_anon, df_ext)\n",
    "\n",
    "print(\"Linkage quality: \", linkage_quality2)"
   ],
   "metadata": {
    "collapsed": false
   }
  },
  {
   "cell_type": "code",
   "execution_count": 77,
   "outputs": [
    {
     "data": {
      "text/plain": "array([[24, 15, 86, ..., 73, 27, 53],\n       [33, 75, 19, ..., 25, 42, 79],\n       [84, 23, 15, ...,  9,  9, 65],\n       ...,\n       [25, 18, 41, ...,  5, 62, 95],\n       [51, 37, 51, ..., 65, 34, 73],\n       [10, 53, 36, ..., 27, 13, 57]])"
     },
     "execution_count": 77,
     "metadata": {},
     "output_type": "execute_result"
    }
   ],
   "source": [
    "anon_data2 = np.random.randint(0, 100, size=(40, 100))\n",
    "ext_data2 = np.random.randint(0, 100, size=(100, 100))\n",
    "\n",
    "anon_data2"
   ],
   "metadata": {
    "collapsed": false
   }
  },
  {
   "cell_type": "code",
   "execution_count": 78,
   "outputs": [],
   "source": [
    "## Re-identification rate: The percentage of individuals in the anonymized graph that can be re-identified using external information.\n",
    "\n",
    "##Linkage quality: A measure of how well the linkage between the anonymized graph and the external dataset captures the true relationships between individuals\n"
   ],
   "metadata": {
    "collapsed": false
   }
  },
  {
   "cell_type": "code",
   "execution_count": 78,
   "outputs": [],
   "source": [],
   "metadata": {
    "collapsed": false
   }
  },
  {
   "cell_type": "code",
   "execution_count": 79,
   "outputs": [],
   "source": [
    "# linkage_quality = calculate_linkage_quality(anon_data2, ext_data2)\n",
    "#\n",
    "# print(\"Linkage quality: \", linkage_quality)"
   ],
   "metadata": {
    "collapsed": false
   }
  },
  {
   "cell_type": "code",
   "execution_count": 80,
   "outputs": [],
   "source": [
    "def calculate_linkage_quality(anon_df, real_df, threshold):\n",
    "    # identify columns to use for similarity calculation\n",
    "    similarity_columns = df_anon.columns.tolist()\n",
    "\n",
    "    # create similarity matrix\n",
    "    similarity_matrix = np.zeros((len(anon_df), len(real_df)))\n",
    "    for i in range(len(anon_df)):\n",
    "        for j in range(len(real_df)):\n",
    "            similarities = []\n",
    "            for column in similarity_columns:\n",
    "                if anon_df.at[i, column] == real_df.at[j, column]:\n",
    "                    similarities.append(1)\n",
    "                else:\n",
    "                    similarities.append(0)\n",
    "            similarity_matrix[i, j] = sum(similarities) / len(similarity_columns)\n",
    "\n",
    "    # find matches between anonymized and real data sets based on similarity threshold\n",
    "    matches = []\n",
    "    for i in range(len(anon_df)):\n",
    "        for j in range(len(real_df)):\n",
    "            if similarity_matrix[i, j] >= threshold:\n",
    "                matches.append((i, j))\n",
    "\n",
    "    # calculate linkage quality\n",
    "    matched_pairs = []\n",
    "    for pair in matches:\n",
    "        i, j = pair\n",
    "        if (i, j) not in matched_pairs and (j, i) not in matched_pairs:\n",
    "            matched_pairs.append((i, j))\n",
    "    linkage_quality = len(matched_pairs) / len(real_df)\n",
    "\n",
    "    return linkage_quality\n",
    "\n",
    "\n"
   ],
   "metadata": {
    "collapsed": false
   }
  },
  {
   "cell_type": "code",
   "execution_count": 86,
   "outputs": [
    {
     "name": "stdout",
     "output_type": "stream",
     "text": [
      "Linkage quality:  0.0\n"
     ]
    }
   ],
   "source": [
    "linkage_quality3 = calculate_linkage_quality(df_anon, df_ext, 0.9)\n",
    "\n",
    "print(\"Linkage quality: \", linkage_quality3)"
   ],
   "metadata": {
    "collapsed": false
   }
  },
  {
   "cell_type": "code",
   "execution_count": 84,
   "outputs": [],
   "source": [
    "similarity_columns = df_anon.columns.tolist()\n",
    "\n",
    "# create similarity matrix\n",
    "similarity_matrix = np.zeros((len(df_anon), len(df_ext)))\n",
    "for i in range(len(df_anon)):\n",
    "    for j in range(len(df_ext)):\n",
    "        similarities = []\n",
    "        for column in similarity_columns:\n",
    "            if df_anon.at[i, column] == df_ext.at[j, column]:\n",
    "                similarities.append(1)\n",
    "            else:\n",
    "                similarities.append(0)\n",
    "        similarity_matrix[i, j] = sum(similarities) / len(similarity_columns)\n"
   ],
   "metadata": {
    "collapsed": false
   }
  },
  {
   "cell_type": "code",
   "execution_count": 85,
   "outputs": [
    {
     "data": {
      "text/plain": "array([[0.31034483, 0.31034483, 0.27586207, ..., 0.48275862, 0.55172414,\n        0.37931034],\n       [0.34482759, 0.44827586, 0.34482759, ..., 0.37931034, 0.48275862,\n        0.51724138],\n       [0.31034483, 0.31034483, 0.27586207, ..., 0.48275862, 0.55172414,\n        0.37931034],\n       ...,\n       [0.27586207, 0.13793103, 0.48275862, ..., 0.37931034, 0.27586207,\n        0.17241379],\n       [0.37931034, 0.55172414, 0.34482759, ..., 0.44827586, 0.48275862,\n        0.5862069 ],\n       [0.20689655, 0.31034483, 0.4137931 , ..., 0.27586207, 0.27586207,\n        0.34482759]])"
     },
     "execution_count": 85,
     "metadata": {},
     "output_type": "execute_result"
    }
   ],
   "source": [
    "similarity_matrix"
   ],
   "metadata": {
    "collapsed": false
   }
  },
  {
   "cell_type": "markdown",
   "source": [],
   "metadata": {
    "collapsed": false
   }
  },
  {
   "cell_type": "code",
   "execution_count": 102,
   "outputs": [
    {
     "ename": "ValueError",
     "evalue": "Unsupported dtype object",
     "output_type": "error",
     "traceback": [
      "\u001B[0;31m---------------------------------------------------------------------------\u001B[0m",
      "\u001B[0;31mValueError\u001B[0m                                Traceback (most recent call last)",
      "Cell \u001B[0;32mIn[102], line 5\u001B[0m\n\u001B[1;32m      3\u001B[0m anon_data \u001B[38;5;241m=\u001B[39m df_anon[similarity_columns]\u001B[38;5;241m.\u001B[39mvalues\n\u001B[1;32m      4\u001B[0m real_data \u001B[38;5;241m=\u001B[39m df_ext[similarity_columns]\u001B[38;5;241m.\u001B[39mvalues\n\u001B[0;32m----> 5\u001B[0m similarity_matrix \u001B[38;5;241m=\u001B[39m  ( \u001B[43mcdist\u001B[49m\u001B[43m(\u001B[49m\u001B[43manon_data\u001B[49m\u001B[43m,\u001B[49m\u001B[43m \u001B[49m\u001B[43mreal_data\u001B[49m\u001B[43m,\u001B[49m\u001B[43m \u001B[49m\u001B[38;5;124;43m'\u001B[39;49m\u001B[38;5;124;43meuclidean\u001B[39;49m\u001B[38;5;124;43m'\u001B[39;49m\u001B[43m)\u001B[49m)\n",
      "File \u001B[0;32m~/.conda/envs/pysiam/lib/python3.10/site-packages/scipy/spatial/distance.py:2939\u001B[0m, in \u001B[0;36mcdist\u001B[0;34m(XA, XB, metric, out, **kwargs)\u001B[0m\n\u001B[1;32m   2937\u001B[0m \u001B[38;5;28;01mif\u001B[39;00m metric_info \u001B[38;5;129;01mis\u001B[39;00m \u001B[38;5;129;01mnot\u001B[39;00m \u001B[38;5;28;01mNone\u001B[39;00m:\n\u001B[1;32m   2938\u001B[0m     cdist_fn \u001B[38;5;241m=\u001B[39m metric_info\u001B[38;5;241m.\u001B[39mcdist_func\n\u001B[0;32m-> 2939\u001B[0m     \u001B[38;5;28;01mreturn\u001B[39;00m \u001B[43mcdist_fn\u001B[49m\u001B[43m(\u001B[49m\u001B[43mXA\u001B[49m\u001B[43m,\u001B[49m\u001B[43m \u001B[49m\u001B[43mXB\u001B[49m\u001B[43m,\u001B[49m\u001B[43m \u001B[49m\u001B[43mout\u001B[49m\u001B[38;5;241;43m=\u001B[39;49m\u001B[43mout\u001B[49m\u001B[43m,\u001B[49m\u001B[43m \u001B[49m\u001B[38;5;241;43m*\u001B[39;49m\u001B[38;5;241;43m*\u001B[39;49m\u001B[43mkwargs\u001B[49m\u001B[43m)\u001B[49m\n\u001B[1;32m   2940\u001B[0m \u001B[38;5;28;01melif\u001B[39;00m mstr\u001B[38;5;241m.\u001B[39mstartswith(\u001B[38;5;124m\"\u001B[39m\u001B[38;5;124mtest_\u001B[39m\u001B[38;5;124m\"\u001B[39m):\n\u001B[1;32m   2941\u001B[0m     metric_info \u001B[38;5;241m=\u001B[39m _TEST_METRICS\u001B[38;5;241m.\u001B[39mget(mstr, \u001B[38;5;28;01mNone\u001B[39;00m)\n",
      "\u001B[0;31mValueError\u001B[0m: Unsupported dtype object"
     ]
    }
   ],
   "source": [
    "from scipy.spatial.distance import cdist\n",
    "similarity_columns = df_anon.columns.tolist()\n",
    "anon_data = df_anon[similarity_columns].values\n",
    "real_data = df_ext[similarity_columns].values\n",
    "similarity_matrix =  ( cdist(anon_data, real_data, 'euclidean'))"
   ],
   "metadata": {
    "collapsed": false
   }
  },
  {
   "cell_type": "code",
   "execution_count": null,
   "outputs": [],
   "source": [],
   "metadata": {
    "collapsed": false
   }
  },
  {
   "cell_type": "code",
   "execution_count": 98,
   "outputs": [],
   "source": [],
   "metadata": {
    "collapsed": false
   }
  },
  {
   "cell_type": "code",
   "execution_count": 99,
   "outputs": [
    {
     "data": {
      "text/plain": "array([['Breast Invasive Ductal Carcinoma', 'Positive', 'Negative', ...,\n        'BREAST CONSERVING', '1:Recurred', 117.80145386984807],\n       ['Breast Invasive Ductal Carcinoma', 'Positive', 'Negative', ...,\n        'MASTECTOMY', '0:Not Recurred', 110.31308011418916],\n       ['Breast Invasive Ductal Carcinoma', 'Positive', 'Negative', ...,\n        'BREAST CONSERVING', '1:Recurred', 120.44663442384136],\n       ...,\n       ['Breast Invasive Ductal Carcinoma', 'Negative', 'Negative', ...,\n        'BREAST CONSERVING', '1:Recurred', 53.368576618432506],\n       ['Breast Invasive Ductal Carcinoma', 'Positive', 'Negative', ...,\n        'MASTECTOMY', '0:Not Recurred', 220.2934806092589],\n       ['Breast Invasive Ductal Carcinoma', 'Negative', 'Negative', ...,\n        'MASTECTOMY', '0:Not Recurred', 167.2542689522702]], dtype=object)"
     },
     "execution_count": 99,
     "metadata": {},
     "output_type": "execute_result"
    }
   ],
   "source": [],
   "metadata": {
    "collapsed": false
   }
  },
  {
   "cell_type": "code",
   "execution_count": null,
   "outputs": [],
   "source": [],
   "metadata": {
    "collapsed": false
   }
  }
 ],
 "metadata": {
  "kernelspec": {
   "display_name": "Python 3",
   "language": "python",
   "name": "python3"
  },
  "language_info": {
   "codemirror_mode": {
    "name": "ipython",
    "version": 2
   },
   "file_extension": ".py",
   "mimetype": "text/x-python",
   "name": "python",
   "nbconvert_exporter": "python",
   "pygments_lexer": "ipython2",
   "version": "2.7.6"
  }
 },
 "nbformat": 4,
 "nbformat_minor": 0
}
