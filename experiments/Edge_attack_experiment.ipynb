{
 "cells": [
  {
   "cell_type": "code",
   "execution_count": 11,
   "metadata": {
    "collapsed": true
   },
   "outputs": [],
   "source": [
    "import pandas as pd\n",
    "import numpy as np\n",
    "import networkx as nx\n",
    "from networkx.drawing.nx_agraph import graphviz_layout\n",
    "import random\n",
    "import sklearn as sk\n",
    "from time import time\n",
    "import pickle"
   ]
  },
  {
   "cell_type": "code",
   "execution_count": 21,
   "outputs": [],
   "source": [
    "df_anon=pd.read_csv(\"../data/MIXED50patients_subsamples/1/Baynet/brca_mRNA_patients_BayNet_n20_deg2_eps0_seed_1.csv\")\n",
    "\n",
    "df_ext = pd.read_csv(\"../data/MIXED50patients_subsamples/1/brca_mRNA_50patients.csv\")"
   ],
   "metadata": {
    "collapsed": false
   }
  },
  {
   "cell_type": "code",
   "execution_count": 22,
   "outputs": [],
   "source": [
    "matched_nodes = set()\n",
    "# find nodes in anonymized graph with same occupation as individuals in external dataset\n",
    "for idx, row in df_ext.iterrows():\n",
    "    tumor_size = row['TUMOR_SIZE']\n",
    "    matches = df_anon.index[(df_anon[\"TUMOR_SIZE\"] == tumor_size)].tolist()\n",
    "    matched_nodes.update(matches)"
   ],
   "metadata": {
    "collapsed": false
   }
  },
  {
   "cell_type": "code",
   "execution_count": 23,
   "outputs": [
    {
     "name": "stdout",
     "output_type": "stream",
     "text": [
      "{0, 1, 3, 4, 5, 7, 10, 11, 12, 15, 16, 17, 18, 21, 28, 31, 32, 33, 37, 38, 41, 42, 44, 45, 46, 47}\n"
     ]
    }
   ],
   "source": [
    "print(matched_nodes)"
   ],
   "metadata": {
    "collapsed": false
   }
  },
  {
   "cell_type": "code",
   "execution_count": null,
   "outputs": [],
   "source": [],
   "metadata": {
    "collapsed": false
   }
  }
 ],
 "metadata": {
  "kernelspec": {
   "display_name": "Python 3",
   "language": "python",
   "name": "python3"
  },
  "language_info": {
   "codemirror_mode": {
    "name": "ipython",
    "version": 2
   },
   "file_extension": ".py",
   "mimetype": "text/x-python",
   "name": "python",
   "nbconvert_exporter": "python",
   "pygments_lexer": "ipython2",
   "version": "2.7.6"
  }
 },
 "nbformat": 4,
 "nbformat_minor": 0
}
